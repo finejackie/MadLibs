{
 "cells": [
  {
   "cell_type": "code",
   "execution_count": 1,
   "id": "53953c46",
   "metadata": {},
   "outputs": [
    {
     "name": "stdout",
     "output_type": "stream",
     "text": [
      "Enter an adjective:cold\n",
      "Enter another adjective:cold\n",
      "Enter a type of bird:chicken\n",
      "Enter a room in a house:kitchen\n",
      "Enter a verb (past-tense):ran\n",
      "Enter a verb:fall\n",
      "Enter a relative's name:Leila\n",
      "Enter a noun:bottle\n",
      "Enter a liquid:water\n",
      "Enter a verb ending in -ing:running\n",
      "Enter a part of the body (plural):boobs\n",
      "Enter a plural noun:rings\n",
      "Enter another verb ending in -ing:falling\n",
      "Lastly... Enter a nounfloor\n",
      "\n",
      "It was a cold, cold November day. I woke up to the cold smell of chicken roasting in the kitchen downstairs. I ran down the stairs to see if I could help fall the dinner. My mom said, 'See if Leila needs a fresh bottle.' So I carried a tray of glasses full of water into the running room. When I got there, I couldn't believe my boobs! There were rings falling on the floor!\n"
     ]
    }
   ],
   "source": [
    "# This program will prompt the user to provide a variety of verbs, nouns, and adjectives \n",
    "# A generated story will be displayed following the inputs\n",
    "\n",
    "\n",
    "adj1 = str(input('Enter an adjective:'))\n",
    "adj2 = str(input('Enter another adjective:'))\n",
    "bird = str(input('Enter a type of bird:'))\n",
    "room = str(input('Enter a room in a house:'))\n",
    "verb1 = str(input('Enter a verb (past-tense):'))\n",
    "verb2 = str(input('Enter a verb:'))\n",
    "name = str(input(\"Enter a relative's name:\"))\n",
    "noun = str(input('Enter a noun:'))\n",
    "liq = str(input('Enter a liquid:'))\n",
    "verb3 = str(input('Enter a verb ending in -ing:'))\n",
    "body = str(input('Enter a part of the body (plural):'))\n",
    "noun2 = str(input('Enter a plural noun:'))\n",
    "verb4 = str(input('Enter another verb ending in -ing:'))\n",
    "noun3 = str(input('Lastly... Enter a noun'))\n",
    "\n",
    "\n",
    "\n",
    "def madlib(a,b,c,d,e,f,g,h,i,j,k,l,m,n):\n",
    "    print('')\n",
    "    print(f\"It was a {a}, cold November day. I woke up to the {b} smell of {c} roasting in the {d} downstairs. I {e} down the stairs to see if I could help {f} the dinner. My mom said, 'See if {g} needs a fresh {h}.' So I carried a tray of glasses full of {i} into the {j} room. When I got there, I couldn't believe my {k}! There were {l} {m} on the {n}!\")\n",
    "    \n",
    "    \n",
    "madlib(adj1,adj2,bird,room,verb1,verb2,name,noun,liq,verb3,body,noun2,verb4,noun3)"
   ]
  },
  {
   "cell_type": "code",
   "execution_count": null,
   "id": "9136cdc3",
   "metadata": {},
   "outputs": [],
   "source": []
  }
 ],
 "metadata": {
  "kernelspec": {
   "display_name": "Python 3 (ipykernel)",
   "language": "python",
   "name": "python3"
  },
  "language_info": {
   "codemirror_mode": {
    "name": "ipython",
    "version": 3
   },
   "file_extension": ".py",
   "mimetype": "text/x-python",
   "name": "python",
   "nbconvert_exporter": "python",
   "pygments_lexer": "ipython3",
   "version": "3.9.7"
  }
 },
 "nbformat": 4,
 "nbformat_minor": 5
}
